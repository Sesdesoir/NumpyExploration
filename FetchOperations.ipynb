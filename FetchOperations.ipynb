{
 "cells": [
  {
   "cell_type": "code",
   "execution_count": 2,
   "metadata": {},
   "outputs": [],
   "source": [
    "import numpy as np"
   ]
  },
  {
   "cell_type": "code",
   "execution_count": 3,
   "metadata": {},
   "outputs": [
    {
     "name": "stdout",
     "output_type": "stream",
     "text": [
      "[ 0  1  2  3  4  5  6  7  8  9 10]\n"
     ]
    }
   ],
   "source": [
    "array_1 = np.arange(0,11)\n",
    "print(array_1)"
   ]
  },
  {
   "cell_type": "code",
   "execution_count": 4,
   "metadata": {},
   "outputs": [
    {
     "name": "stdout",
     "output_type": "stream",
     "text": [
      "0\n",
      "10\n"
     ]
    }
   ],
   "source": [
    "#Like other array systems you use square brackets 0 based position. var[index]\n",
    "first_element = array_1[0]\n",
    "print(first_element)\n",
    "last_element = array_1[10]\n",
    "print(last_element)"
   ]
  },
  {
   "cell_type": "code",
   "execution_count": 5,
   "metadata": {},
   "outputs": [
    {
     "name": "stdout",
     "output_type": "stream",
     "text": [
      "[2 3 4 5 6]\n"
     ]
    }
   ],
   "source": [
    "#I'm a fan of python's range operator the colon :\n",
    "#what a great way to say from here to there ex:  2 to 7 ==  2:7  upper bound is <7\n",
    "#Remember this is 0 based index so 2 is the 3rd term.\n",
    "array_range = array_1[2:7]\n",
    "print(array_range)"
   ]
  },
  {
   "cell_type": "code",
   "execution_count": 6,
   "metadata": {},
   "outputs": [
    {
     "name": "stdout",
     "output_type": "stream",
     "text": [
      "[4 8]\n"
     ]
    }
   ],
   "source": [
    "#Starting position & a skip!\n",
    "#Start on 4 count by 4\n",
    "array_skip = array_1[4::4]\n",
    "print(array_skip)"
   ]
  },
  {
   "cell_type": "code",
   "execution_count": 7,
   "metadata": {},
   "outputs": [
    {
     "name": "stdout",
     "output_type": "stream",
     "text": [
      "[10  7  4  1]\n"
     ]
    }
   ],
   "source": [
    "#Stat skip & go backwards o.O!!\n",
    "#No surprise neagative makes it count backwards!\n",
    "array_backwards = array_1[10::-3]\n",
    "print(array_backwards)"
   ]
  },
  {
   "cell_type": "code",
   "execution_count": 8,
   "metadata": {},
   "outputs": [
    {
     "name": "stdout",
     "output_type": "stream",
     "text": [
      "[10  9  8  7  6  5  4  3  2  1  0]\n"
     ]
    }
   ],
   "source": [
    "array_backwards_by1 = array_1[10::-1]\n",
    "print(array_backwards_by1)"
   ]
  },
  {
   "cell_type": "code",
   "execution_count": 9,
   "metadata": {},
   "outputs": [
    {
     "name": "stdout",
     "output_type": "stream",
     "text": [
      "[ 8  9 10]\n",
      "[7 8]\n"
     ]
    }
   ],
   "source": [
    "#Best thing EVER you can count from the right hand side of the array with negative numbers.\n",
    "# This will print 3 from the RH side to the end.\n",
    "array_right_hand = array_1[-3:]\n",
    "print(array_right_hand)\n",
    "\n",
    "#can make it count so many from the end up to a specified point too. Beautiful!\n",
    "array_right_hand_2 = array_1[-4:-2]\n",
    "print(array_right_hand_2)"
   ]
  },
  {
   "cell_type": "code",
   "execution_count": 10,
   "metadata": {},
   "outputs": [
    {
     "name": "stdout",
     "output_type": "stream",
     "text": [
      "11\n"
     ]
    }
   ],
   "source": [
    "#Array length uses property .size   ...which is actually the length not the byte size\n",
    "#yes 0-10 is 11 numbers/entries\n",
    "print(array_1.size)"
   ]
  },
  {
   "cell_type": "code",
   "execution_count": 11,
   "metadata": {},
   "outputs": [
    {
     "name": "stdout",
     "output_type": "stream",
     "text": [
      "I am the minimum!  0\n",
      "I am the maximum!  10\n",
      "I am the average!  5.0\n",
      "I am the sum!  55\n",
      "I am the sum of a range of numbers!  21\n",
      "I am the median!  5.0\n"
     ]
    }
   ],
   "source": [
    "#We can find max, mins and averages of arrays!\n",
    "#It doesn't like strings + var ...it likes the comma for that\n",
    "print(\"I am the minimum! \" , np.amin(array_1)) \n",
    "print(\"I am the maximum! \" , np.amax(array_1))\n",
    "print(\"I am the average! \" , np.average(array_1))\n",
    "print(\"I am the sum! \", np.sum(array_1))\n",
    "print(\"I am the sum of a range of numbers! \" , np.sum(array_1[6:9]))\n",
    "print(\"I am the median! \" , np.median(array_1))"
   ]
  }
 ],
 "metadata": {
  "interpreter": {
   "hash": "63fd5069d213b44bf678585dea6b12cceca9941eaf7f819626cde1f2670de90d"
  },
  "kernelspec": {
   "display_name": "Python 3.9.6 64-bit",
   "name": "python3"
  },
  "language_info": {
   "codemirror_mode": {
    "name": "ipython",
    "version": 3
   },
   "file_extension": ".py",
   "mimetype": "text/x-python",
   "name": "python",
   "nbconvert_exporter": "python",
   "pygments_lexer": "ipython3",
   "version": "3.8.8"
  },
  "orig_nbformat": 4
 },
 "nbformat": 4,
 "nbformat_minor": 2
}
