{
 "cells": [
  {
   "cell_type": "code",
   "execution_count": 58,
   "metadata": {},
   "outputs": [],
   "source": [
    "import numpy as np"
   ]
  },
  {
   "cell_type": "code",
   "execution_count": 59,
   "metadata": {},
   "outputs": [
    {
     "name": "stdout",
     "output_type": "stream",
     "text": [
      "[[1 2]\n",
      " [3 4]]\n"
     ]
    }
   ],
   "source": [
    "two_by_two = np.matrix([[1,2],[3,4]])\n",
    "print(two_by_two)"
   ]
  },
  {
   "cell_type": "code",
   "execution_count": 60,
   "metadata": {},
   "outputs": [
    {
     "name": "stdout",
     "output_type": "stream",
     "text": [
      "[[1 2]\n",
      " [3 4]\n",
      " [5 6]]\n"
     ]
    }
   ],
   "source": [
    "two_by_three = np.matrix('1 2; 3 4; 5 6')\n",
    "print(two_by_three)"
   ]
  },
  {
   "cell_type": "code",
   "execution_count": 61,
   "metadata": {},
   "outputs": [
    {
     "name": "stdout",
     "output_type": "stream",
     "text": [
      "[[0. 0.]\n",
      " [0. 0.]\n",
      " [0. 0.]]\n"
     ]
    }
   ],
   "source": [
    "#This works with .ones as well \n",
    "print(np.zeros([3, 2]))"
   ]
  },
  {
   "cell_type": "code",
   "execution_count": 73,
   "metadata": {},
   "outputs": [
    {
     "name": "stdout",
     "output_type": "stream",
     "text": [
      "[[1 2 3]\n",
      " [4 5 6]\n",
      " [7 8 9]]\n",
      "Row:\n",
      " [[1 2 3]]\n",
      "Column:\n",
      " [[2]\n",
      " [5]\n",
      " [8]]\n",
      "Multiple Columns:\n",
      " [[2 3]\n",
      " [5 6]\n",
      " [8 9]]\n",
      "Index:\n",
      " 6\n",
      "Multiple indicies in a row:\n",
      " [[7 8]]\n"
     ]
    }
   ],
   "source": [
    "#It's one [] for an index instead of 2 [][]\n",
    "three_by_three = np.matrix([[1, 2, 3], [4, 5, 6], [7, 8, 9]])\n",
    "print(three_by_three)\n",
    "print(\"Row:\\n\", three_by_three[0])\n",
    "print(\"Column:\\n\", three_by_three[: , 1])\n",
    "print(\"Multiple Columns:\\n\", three_by_three[:,[1,2]])\n",
    "print(\"Index:\\n\", three_by_three[1, 2])\n",
    "#Remember lower bound is inclusive and upper bound is exclusive\n",
    "print(\"Multiple indicies in a row:\\n\", three_by_three[2, 0:2])"
   ]
  },
  {
   "cell_type": "code",
   "execution_count": 72,
   "metadata": {},
   "outputs": [
    {
     "name": "stdout",
     "output_type": "stream",
     "text": [
      "9\n",
      "Three by Three: (3, 3)\n",
      "Two by Three: (3, 2)\n"
     ]
    }
   ],
   "source": [
    "# .size gives number of indicies\n",
    "print(three_by_three.size)\n",
    "# .shape gives you ( height, width ) of matrix\n",
    "print(\"Three by Three:\", three_by_three.shape)\n",
    "print(\"Two by Three:\", two_by_three.shape)"
   ]
  },
  {
   "cell_type": "code",
   "execution_count": 64,
   "metadata": {},
   "outputs": [
    {
     "name": "stdout",
     "output_type": "stream",
     "text": [
      "9\n",
      "1\n"
     ]
    }
   ],
   "source": [
    "#matricies can be put into .amax, .amin etc \n",
    "# but also have properties you can directly call!\n",
    "print(three_by_three.max())\n",
    "print(three_by_three.min())"
   ]
  },
  {
   "cell_type": "code",
   "execution_count": 65,
   "metadata": {},
   "outputs": [
    {
     "name": "stdout",
     "output_type": "stream",
     "text": [
      "[[ 1  2]\n",
      " [ 3 10]]\n",
      "[[62 32]\n",
      " [ 3  4]]\n"
     ]
    }
   ],
   "source": [
    "#Can replace indicies and rows\n",
    "two_by_two[1,1] = 10\n",
    "print (two_by_two)\n",
    "two_by_two[1,1] = 4\n",
    "two_by_two[0] = [62, 32]\n",
    "print(two_by_two)\n",
    "two_by_two[0] = [1, 2]\n"
   ]
  },
  {
   "cell_type": "code",
   "execution_count": 66,
   "metadata": {},
   "outputs": [
    {
     "name": "stdout",
     "output_type": "stream",
     "text": [
      "[[ 1 61]\n",
      " [ 3 32]\n",
      " [ 5 18]]\n"
     ]
    }
   ],
   "source": [
    "#You can replace columns as well\n",
    "two_by_three[:, 1] = [[61], [32], [18]]\n",
    "print(two_by_three)\n",
    "two_by_three[:, 1] = [[2], [4], [6]]"
   ]
  },
  {
   "cell_type": "code",
   "execution_count": 67,
   "metadata": {},
   "outputs": [
    {
     "name": "stdout",
     "output_type": "stream",
     "text": [
      "[[3 2 1]\n",
      " [6 5 4]\n",
      " [9 8 7]]\n"
     ]
    }
   ],
   "source": [
    "#np.sort() will sort individual rows as opposed to reorganizing the whole matrix\n",
    "#because this is in ascending order we're gonna print it in descending order\n",
    "print(-np.sort(-three_by_three))"
   ]
  },
  {
   "cell_type": "code",
   "execution_count": 70,
   "metadata": {},
   "outputs": [
    {
     "name": "stdout",
     "output_type": "stream",
     "text": [
      "[[1 2]\n",
      " [3 4]\n",
      " [5 6]]\n",
      "Transpose:\n",
      " [[1 3 5]\n",
      " [2 4 6]]\n",
      "Multiple Indicies in a Column:\n",
      " [[4 6]]\n"
     ]
    }
   ],
   "source": [
    "#Transpose swaps columns and rows. Or maybe more appropriately turns columns into rows\n",
    "print(two_by_three)\n",
    "print('Transpose:\\n', two_by_three.T)\n",
    "#Which means we could print a range of indicies from a column! \n",
    "# It just wont look like a column\n",
    "print('Multiple Indicies in a Column:\\n', two_by_three.T[1, 1:] )"
   ]
  },
  {
   "cell_type": "code",
   "execution_count": 74,
   "metadata": {},
   "outputs": [
    {
     "name": "stdout",
     "output_type": "stream",
     "text": [
      "[[1 2 3 4 5 6 7 8 9]]\n"
     ]
    }
   ],
   "source": [
    "#.flatten takes a matrix and turns it into a one dimensional array\n",
    "#technically just a one row'd matrix\n",
    "print(three_by_three.flatten())"
   ]
  },
  {
   "cell_type": "code",
   "execution_count": 77,
   "metadata": {},
   "outputs": [
    {
     "name": "stdout",
     "output_type": "stream",
     "text": [
      "[[ 7 10]\n",
      " [15 22]]\n"
     ]
    }
   ],
   "source": [
    "#matmul is matrix multiplication\n",
    "print(np.matmul(two_by_two, two_by_two))"
   ]
  },
  {
   "cell_type": "code",
   "execution_count": 78,
   "metadata": {},
   "outputs": [
    {
     "name": "stdout",
     "output_type": "stream",
     "text": [
      "[[0 0 1 0 0]\n",
      " [0 0 1 0 0]\n",
      " [0 0 1 0 0]\n",
      " [0 0 1 0 0]\n",
      " [0 0 1 0 0]]\n"
     ]
    }
   ],
   "source": [
    "image_matrix = np.matrix([[0, 0, 1, 0, 0], [0, 0, 1, 0, 0], [0, 0, 1, 0, 0], [0, 0, 1, 0, 0], [0, 0, 1, 0, 0]])\n",
    "print(image_matrix)"
   ]
  },
  {
   "cell_type": "code",
   "execution_count": 81,
   "metadata": {},
   "outputs": [
    {
     "name": "stdout",
     "output_type": "stream",
     "text": [
      "Rows: 5 Columns: 5\n",
      "Columns: 2\n"
     ]
    }
   ],
   "source": [
    "#Because we can\n",
    "rows = image_matrix.shape[0]\n",
    "#Remember .shape returns (height , width)\n",
    "columns = image_matrix.shape[1]\n",
    "print('Rows:', rows , \"Columns:\", columns)\n",
    "\n",
    "#Some proof. There are two columns and 3 rows\n",
    "print('Columns:', two_by_three.shape[1])\n"
   ]
  },
  {
   "cell_type": "code",
   "execution_count": 82,
   "metadata": {},
   "outputs": [
    {
     "name": "stdout",
     "output_type": "stream",
     "text": [
      "[[1 1 0 1 1]\n",
      " [1 1 0 1 1]\n",
      " [1 1 0 1 1]\n",
      " [1 1 0 1 1]\n",
      " [1 1 0 1 1]]\n"
     ]
    }
   ],
   "source": [
    "#This is just a for loop. Normally we would say row in rows or animal in animals.\n",
    "#I'm attempting to make it clear these are variables we name\n",
    "#I am not a fan of the no brackets\n",
    "for x in range(rows) :\n",
    "    for y in range(columns):\n",
    "        if image_matrix[x,y] == 0:\n",
    "            image_matrix[x,y] = 1\n",
    "        else:\n",
    "            image_matrix[x,y] = 0\n",
    "\n",
    "print(image_matrix)"
   ]
  }
 ],
 "metadata": {
  "kernelspec": {
   "display_name": "base",
   "language": "python",
   "name": "python3"
  },
  "language_info": {
   "codemirror_mode": {
    "name": "ipython",
    "version": 3
   },
   "file_extension": ".py",
   "mimetype": "text/x-python",
   "name": "python",
   "nbconvert_exporter": "python",
   "pygments_lexer": "ipython3",
   "version": "3.8.8"
  },
  "orig_nbformat": 4
 },
 "nbformat": 4,
 "nbformat_minor": 2
}
