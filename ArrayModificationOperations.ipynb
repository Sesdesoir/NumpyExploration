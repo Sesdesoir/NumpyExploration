{
 "cells": [
  {
   "cell_type": "code",
   "execution_count": 3,
   "metadata": {},
   "outputs": [],
   "source": [
    "import numpy as np"
   ]
  },
  {
   "cell_type": "code",
   "execution_count": 7,
   "metadata": {},
   "outputs": [
    {
     "name": "stdout",
     "output_type": "stream",
     "text": [
      "[0 1 2 3 4 5]\n"
     ]
    }
   ],
   "source": [
    "array = np.arange(0 , 6)\n",
    "print(array)"
   ]
  },
  {
   "cell_type": "code",
   "execution_count": 8,
   "metadata": {},
   "outputs": [
    {
     "name": "stdout",
     "output_type": "stream",
     "text": [
      "[17  1  2  3  4  5]\n"
     ]
    }
   ],
   "source": [
    "#Like other arrays you can change a specific value\n",
    "array[0] = 17\n",
    "print(array)"
   ]
  },
  {
   "cell_type": "code",
   "execution_count": 11,
   "metadata": {},
   "outputs": [
    {
     "name": "stdout",
     "output_type": "stream",
     "text": [
      "[ 0  1  2  3  4  5 18]\n",
      "[ 0  1  2  3  4  5 18]\n"
     ]
    }
   ],
   "source": [
    "#We can also add things onto the back of arrays\n",
    "array = np.arange(0 , 6)\n",
    "print(np.append(array, 18))\n",
    "# IMPORTANT NOTE #\n",
    "#.append does not alter the original array unless we reasign it\n",
    "# eg: \n",
    "array = np.append(array, 18)\n",
    "print(array)"
   ]
  },
  {
   "cell_type": "code",
   "execution_count": 12,
   "metadata": {},
   "outputs": [
    {
     "name": "stdout",
     "output_type": "stream",
     "text": [
      "[ 0  1  2 61 32  3  4  5]\n"
     ]
    }
   ],
   "source": [
    "array = np.arange(0 , 6)\n",
    "#Likewise .insert does not change the original array.\n",
    "#.insert inserts at the position. \n",
    "# So the item in position lets say 3 will now be injected with the insert\n",
    "# and everything else will be shifted over. No deletions\n",
    "print(np.insert(array, 3 , [61, 32]))"
   ]
  },
  {
   "cell_type": "code",
   "execution_count": 14,
   "metadata": {},
   "outputs": [
    {
     "name": "stdout",
     "output_type": "stream",
     "text": [
      "[0 1 2 3 5]\n",
      "['Lions' 'Tigers' 'Wolves']\n"
     ]
    }
   ],
   "source": [
    "#.delete removes the value at an index and shifts everything so there are only that many elements\n",
    "print(np.delete(array, 4))\n",
    "#also works with lists etc\n",
    "Animals = ['Lions', 'Tigers' , 'Bears' , 'Wolves']\n",
    "print(np.delete(Animals, 2))"
   ]
  },
  {
   "cell_type": "code",
   "execution_count": 19,
   "metadata": {},
   "outputs": [
    {
     "name": "stdout",
     "output_type": "stream",
     "text": [
      "[ 0  2  4  6  8 10]\n",
      "[-2 -1  0  1  2  3]\n",
      "[-2  0  2  4  6  8]\n",
      "[-4 -3 -2 -1  0  1]\n"
     ]
    }
   ],
   "source": [
    "#Numpy can perform math on all elements in an array eg:\n",
    "print(array * 2)\n",
    "print(array + 2 - 4)\n",
    "print(array  * 2 - 2)\n",
    "#however unlike mathematics code does not follow the order of operations\n",
    "# It will read it as instructions eg: subtract 2 firs then multiply\n",
    "print( array -2 * 2)"
   ]
  },
  {
   "cell_type": "code",
   "execution_count": 20,
   "metadata": {},
   "outputs": [
    {
     "name": "stdout",
     "output_type": "stream",
     "text": [
      "[19 25 32 54 61]\n"
     ]
    }
   ],
   "source": [
    "#np .sort arranges things in ascending order by default\n",
    "unsorted_array = np.array([25, 61 , 32, 54, 19 ])\n",
    "print(np.sort(unsorted_array))"
   ]
  },
  {
   "cell_type": "code",
   "execution_count": 22,
   "metadata": {},
   "outputs": [
    {
     "name": "stdout",
     "output_type": "stream",
     "text": [
      "[-61 -54 -32 -25 -19]\n",
      "[61 54 32 25 19]\n"
     ]
    }
   ],
   "source": [
    "#you can make it sort in descending order\n",
    "#so here I added a -1 which makes the whole array negative as demonstrated earlier\n",
    "print(np.sort(-unsorted_array))\n",
    "#we can fix the values by multiplying again by negative 1!\n",
    "print(-np.sort(-unsorted_array))"
   ]
  }
 ],
 "metadata": {
  "kernelspec": {
   "display_name": "base",
   "language": "python",
   "name": "python3"
  },
  "language_info": {
   "codemirror_mode": {
    "name": "ipython",
    "version": 3
   },
   "file_extension": ".py",
   "mimetype": "text/x-python",
   "name": "python",
   "nbconvert_exporter": "python",
   "pygments_lexer": "ipython3",
   "version": "3.8.8"
  },
  "orig_nbformat": 4
 },
 "nbformat": 4,
 "nbformat_minor": 2
}
