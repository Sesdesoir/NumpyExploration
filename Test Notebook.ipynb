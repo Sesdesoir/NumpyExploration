{
 "cells": [
  {
   "cell_type": "markdown",
   "metadata": {},
   "source": [
    "Test Holder"
   ]
  },
  {
   "cell_type": "code",
   "execution_count": 11,
   "metadata": {},
   "outputs": [
    {
     "name": "stdout",
     "output_type": "stream",
     "text": [
      "[1, 2, 3]\n"
     ]
    }
   ],
   "source": [
    "#This is a regular python array\r\n",
    "#python arrays can be a storage for many data types\r\n",
    "#numpy arrays are built on C and should only use numbers (Computing power!)\r\n",
    "list_1 = [1,2,3]\r\n",
    "print(list_1)"
   ]
  },
  {
   "cell_type": "code",
   "execution_count": 12,
   "metadata": {},
   "outputs": [],
   "source": [
    "#Importing NumPy as whatever we want to call it really. The standard is np.\r\n",
    "import numpy as np"
   ]
  },
  {
   "cell_type": "code",
   "execution_count": 13,
   "metadata": {},
   "outputs": [
    {
     "name": "stdout",
     "output_type": "stream",
     "text": [
      "[1 2 3]\n"
     ]
    }
   ],
   "source": [
    "#Creates a Numpy array based on the above array\r\n",
    "numpy_1 = np.array(list_1)\r\n",
    "print(numpy_1)"
   ]
  },
  {
   "cell_type": "code",
   "execution_count": 14,
   "metadata": {},
   "outputs": [
    {
     "name": "stdout",
     "output_type": "stream",
     "text": [
      "[0. 0. 0. 0. 0.]\n"
     ]
    }
   ],
   "source": [
    "# Will create an array of x many zeroes. In this case 5 zeroes. \r\n",
    "zeroes_array = np.zeros(5)\r\n",
    "print(zeroes_array)"
   ]
  },
  {
   "cell_type": "code",
   "execution_count": 15,
   "metadata": {},
   "outputs": [
    {
     "name": "stdout",
     "output_type": "stream",
     "text": [
      "[1. 1. 1. 1. 1.]\n"
     ]
    }
   ],
   "source": [
    "#Same as zeroes, but in this case ones.\r\n",
    "ones_array = np.ones(5)\r\n",
    "print(ones_array)"
   ]
  },
  {
   "cell_type": "code",
   "execution_count": 16,
   "metadata": {},
   "outputs": [
    {
     "name": "stdout",
     "output_type": "stream",
     "text": [
      "[0 1 2 3 4]\n"
     ]
    }
   ],
   "source": [
    "#This makes an array of 5 numbers 0-4. The number is the upper bound ie <5\n",
    "range_array_1 = np.arange(5)\n",
    "print(range_array_1)"
   ]
  },
  {
   "cell_type": "code",
   "execution_count": 17,
   "metadata": {},
   "outputs": [
    {
     "name": "stdout",
     "output_type": "stream",
     "text": [
      "[ 5  6  7  8  9 10]\n"
     ]
    }
   ],
   "source": [
    "#This makes an array of numbers 5 to 10. Again 11 is the upper, noninclusive bound. <11\n",
    "range_array_2 = np.arange(5,11)\n",
    "print(range_array_2)"
   ]
  },
  {
   "cell_type": "code",
   "execution_count": 18,
   "metadata": {},
   "outputs": [
    {
     "name": "stdout",
     "output_type": "stream",
     "text": [
      "[ 0  2  4  6  8 10 12 14 16 18]\n"
     ]
    }
   ],
   "source": [
    "#Makes an array of numbers 0 to <20 (19). The 2 indicates every 2nd number.\n",
    "range_array_3 = np.arange(0,20,2)\n",
    "print(range_array_3)"
   ]
  },
  {
   "cell_type": "code",
   "execution_count": 19,
   "metadata": {},
   "outputs": [
    {
     "name": "stdout",
     "output_type": "stream",
     "text": [
      "[ 0  4  8 12 16]\n"
     ]
    }
   ],
   "source": [
    "#Same as above except the 4 indicates every 4th number.\n",
    "range_array_4 = np.arange(0,20,4)\n",
    "print(range_array_4)"
   ]
  },
  {
   "cell_type": "code",
   "execution_count": 23,
   "metadata": {},
   "outputs": [
    {
     "name": "stdout",
     "output_type": "stream",
     "text": [
      "[ 0.          0.71428571  1.42857143  2.14285714  2.85714286  3.57142857\n",
      "  4.28571429  5.          5.71428571  6.42857143  7.14285714  7.85714286\n",
      "  8.57142857  9.28571429 10.        ]\n"
     ]
    }
   ],
   "source": [
    "#linspace == linear space. \r\n",
    "# Composed of a lower bound, upperbound and number of elements to create evenly spaced between the two.\r\n",
    "#UNLIKE the arange function...linspace bounds ARE inclusive.\r\n",
    "linspace_array = np.linspace(0,10,15) \r\n",
    "print(linspace_array)"
   ]
  }
 ],
 "metadata": {
  "interpreter": {
   "hash": "57e1375f1f32da5a95dc009e9ed07647bec069133b7c59c51765f10f015b0dc5"
  },
  "kernelspec": {
   "display_name": "Python 3.8.8 64-bit",
   "name": "python3"
  },
  "language_info": {
   "codemirror_mode": {
    "name": "ipython",
    "version": 3
   },
   "file_extension": ".py",
   "mimetype": "text/x-python",
   "name": "python",
   "nbconvert_exporter": "python",
   "pygments_lexer": "ipython3",
   "version": "3.8.8"
  }
 },
 "nbformat": 4,
 "nbformat_minor": 5
}